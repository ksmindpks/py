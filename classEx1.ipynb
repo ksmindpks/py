{
 "cells": [
  {
   "cell_type": "code",
   "execution_count": 28,
   "id": "900d99fc",
   "metadata": {},
   "outputs": [],
   "source": [
    "class Car:\n",
    "    def roll(self):\n",
    "        print('차가 굴러간다.')"
   ]
  },
  {
   "cell_type": "code",
   "execution_count": 29,
   "id": "d31a3931",
   "metadata": {},
   "outputs": [],
   "source": [
    "mycar = Car()"
   ]
  },
  {
   "cell_type": "code",
   "execution_count": 30,
   "id": "4ea0e715",
   "metadata": {},
   "outputs": [
    {
     "name": "stdout",
     "output_type": "stream",
     "text": [
      "차가 굴러간다.\n"
     ]
    }
   ],
   "source": [
    "mycar.roll()"
   ]
  },
  {
   "cell_type": "code",
   "execution_count": 17,
   "id": "ea626b25",
   "metadata": {},
   "outputs": [],
   "source": [
    "class Car:\n",
    "    def roll(self):\n",
    "        print(id(self))"
   ]
  },
  {
   "cell_type": "code",
   "execution_count": 18,
   "id": "2fbc1e8b",
   "metadata": {},
   "outputs": [],
   "source": [
    "mycar1 = Car()"
   ]
  },
  {
   "cell_type": "code",
   "execution_count": 19,
   "id": "b578bcc2",
   "metadata": {},
   "outputs": [
    {
     "data": {
      "text/plain": [
       "1741803961184"
      ]
     },
     "execution_count": 19,
     "metadata": {},
     "output_type": "execute_result"
    }
   ],
   "source": [
    "id(mycar1)"
   ]
  },
  {
   "cell_type": "code",
   "execution_count": 20,
   "id": "6acbce6f",
   "metadata": {},
   "outputs": [
    {
     "name": "stdout",
     "output_type": "stream",
     "text": [
      "1741803961184\n"
     ]
    }
   ],
   "source": [
    "mycar1.roll()"
   ]
  },
  {
   "cell_type": "code",
   "execution_count": 21,
   "id": "c445c2ae",
   "metadata": {},
   "outputs": [],
   "source": [
    "class Car:\n",
    "    def roll(self, model):\n",
    "        print(f'{model}이 굴러간다')"
   ]
  },
  {
   "cell_type": "code",
   "execution_count": 22,
   "id": "3de69e87",
   "metadata": {},
   "outputs": [],
   "source": [
    "my_car = Car()"
   ]
  },
  {
   "cell_type": "code",
   "execution_count": 23,
   "id": "6bf9449b",
   "metadata": {},
   "outputs": [
    {
     "name": "stdout",
     "output_type": "stream",
     "text": [
      "호빵이 굴러간다\n"
     ]
    }
   ],
   "source": [
    "my_car.roll('호빵')"
   ]
  },
  {
   "cell_type": "code",
   "execution_count": 31,
   "id": "dca96e56",
   "metadata": {},
   "outputs": [],
   "source": [
    "class Car:\n",
    "    def __init__(self, color):\n",
    "        self.color=color"
   ]
  },
  {
   "cell_type": "code",
   "execution_count": 32,
   "id": "2d3bd58a",
   "metadata": {},
   "outputs": [],
   "source": [
    "mycar4 = Car('검정')"
   ]
  },
  {
   "cell_type": "code",
   "execution_count": 34,
   "id": "83651a6c",
   "metadata": {},
   "outputs": [
    {
     "data": {
      "text/plain": [
       "'검정'"
      ]
     },
     "execution_count": 34,
     "metadata": {},
     "output_type": "execute_result"
    }
   ],
   "source": [
    "mycar4.color"
   ]
  },
  {
   "cell_type": "code",
   "execution_count": 35,
   "id": "5788179a",
   "metadata": {},
   "outputs": [],
   "source": [
    "mycar3 = Car('White')"
   ]
  },
  {
   "cell_type": "code",
   "execution_count": 36,
   "id": "56566d63",
   "metadata": {},
   "outputs": [
    {
     "data": {
      "text/plain": [
       "'White'"
      ]
     },
     "execution_count": 36,
     "metadata": {},
     "output_type": "execute_result"
    }
   ],
   "source": [
    "mycar3.color"
   ]
  },
  {
   "cell_type": "code",
   "execution_count": 39,
   "id": "fa7cc927",
   "metadata": {},
   "outputs": [],
   "source": [
    "class Car:\n",
    "    def __init__(self, color):\n",
    "        self.color=color\n",
    "    def roll(self):\n",
    "        print(f'내 {self.color}차가 굴러간다')"
   ]
  },
  {
   "cell_type": "code",
   "execution_count": 40,
   "id": "5d7c493c",
   "metadata": {},
   "outputs": [],
   "source": [
    "my_car5=Car('Black')"
   ]
  },
  {
   "cell_type": "code",
   "execution_count": 41,
   "id": "52cd89f9",
   "metadata": {},
   "outputs": [
    {
     "name": "stdout",
     "output_type": "stream",
     "text": [
      "내 Black차가 굴러간다\n"
     ]
    }
   ],
   "source": [
    "my_car5.roll()"
   ]
  },
  {
   "cell_type": "code",
   "execution_count": 45,
   "id": "8d273b54",
   "metadata": {},
   "outputs": [
    {
     "name": "stdout",
     "output_type": "stream",
     "text": [
      "outStanding 학생이 게임을 잘한다.\n"
     ]
    }
   ],
   "source": [
    "class Student:\n",
    "    def __init__(self, defecttype):\n",
    "        self.defecttype=defecttype\n",
    "    def play(self):\n",
    "        print(f'{self.defecttype} 학생이 게임을 잘한다.')\n",
    "\n",
    "classmate = Student('outStanding')\n",
    "\n",
    "classmate.play()"
   ]
  },
  {
   "cell_type": "code",
   "execution_count": 43,
   "id": "12b8d82a",
   "metadata": {},
   "outputs": [],
   "source": [
    "classmate = Student('outStanding')"
   ]
  },
  {
   "cell_type": "code",
   "execution_count": null,
   "id": "c0551b5f",
   "metadata": {},
   "outputs": [
    {
     "name": "stdout",
     "output_type": "stream",
     "text": [
      "outStanding 학생이 게임을 잘한다.\n"
     ]
    }
   ],
   "source": [
    "classmate.play()"
   ]
  },
  {
   "cell_type": "code",
   "execution_count": 46,
   "id": "db787d7f",
   "metadata": {},
   "outputs": [],
   "source": [
    "# 클래스 관계\n",
    "\n",
    "# 1. 사용\n",
    "# 내(이름)가 BMW x3를 타고 가능 상황"
   ]
  },
  {
   "cell_type": "code",
   "execution_count": 103,
   "id": "cd2eb967",
   "metadata": {},
   "outputs": [],
   "source": [
    "class Person:\n",
    "    def __init__(self, name, using):\n",
    "        self.name=name\n",
    "    def drive(self, model):\n",
    "        print(f'{self.name}가 {model}을 운전한다')"
   ]
  },
  {
   "cell_type": "code",
   "execution_count": 104,
   "id": "b5641933",
   "metadata": {},
   "outputs": [
    {
     "ename": "TypeError",
     "evalue": "Person.__init__() missing 1 required positional argument: 'using'",
     "output_type": "error",
     "traceback": [
      "\u001b[1;31m---------------------------------------------------------------------------\u001b[0m",
      "\u001b[1;31mTypeError\u001b[0m                                 Traceback (most recent call last)",
      "Cell \u001b[1;32mIn[104], line 1\u001b[0m\n\u001b[1;32m----> 1\u001b[0m me \u001b[38;5;241m=\u001b[39m Person(\u001b[38;5;124m'\u001b[39m\u001b[38;5;124mPKS\u001b[39m\u001b[38;5;124m'\u001b[39m)\n",
      "\u001b[1;31mTypeError\u001b[0m: Person.__init__() missing 1 required positional argument: 'using'"
     ]
    }
   ],
   "source": [
    "me = Person('PKS')"
   ]
  },
  {
   "cell_type": "code",
   "execution_count": 61,
   "id": "3df900f1",
   "metadata": {},
   "outputs": [
    {
     "data": {
      "text/plain": [
       "'kds'"
      ]
     },
     "execution_count": 61,
     "metadata": {},
     "output_type": "execute_result"
    }
   ],
   "source": [
    "me.name"
   ]
  },
  {
   "cell_type": "code",
   "execution_count": 94,
   "id": "39e2126b",
   "metadata": {},
   "outputs": [],
   "source": [
    "class Car:\n",
    "    def __init__(self, model):\n",
    "        self.model=model"
   ]
  },
  {
   "cell_type": "code",
   "execution_count": 95,
   "id": "196bd312",
   "metadata": {},
   "outputs": [],
   "source": [
    "my_model = Car('BMW')"
   ]
  },
  {
   "cell_type": "code",
   "execution_count": 96,
   "id": "4ba3781e",
   "metadata": {},
   "outputs": [
    {
     "data": {
      "text/plain": [
       "'BMW'"
      ]
     },
     "execution_count": 96,
     "metadata": {},
     "output_type": "execute_result"
    }
   ],
   "source": [
    "my_model.model"
   ]
  },
  {
   "cell_type": "code",
   "execution_count": 65,
   "id": "1e9ffa15",
   "metadata": {},
   "outputs": [
    {
     "name": "stdout",
     "output_type": "stream",
     "text": [
      "kds가 BMW을 운전한다\n"
     ]
    }
   ],
   "source": [
    "me.drive(my_model.model)"
   ]
  },
  {
   "cell_type": "code",
   "execution_count": 68,
   "id": "ff11966f",
   "metadata": {},
   "outputs": [],
   "source": [
    "class Usage:\n",
    "    def __init__(self, using):\n",
    "        self.using=using"
   ]
  },
  {
   "cell_type": "code",
   "execution_count": 69,
   "id": "bac16f0d",
   "metadata": {},
   "outputs": [],
   "source": [
    "use=Usage('근퇴')"
   ]
  },
  {
   "cell_type": "code",
   "execution_count": 47,
   "id": "71891eb5",
   "metadata": {},
   "outputs": [],
   "source": [
    "# 2. 포함\n",
    "# 차 안에 타이어(금호)을 포함한다"
   ]
  },
  {
   "cell_type": "code",
   "execution_count": 74,
   "id": "a5ae59b4",
   "metadata": {},
   "outputs": [],
   "source": [
    "class Engine:\n",
    "    def start(self):\n",
    "        print(\"Engine started\")"
   ]
  },
  {
   "cell_type": "code",
   "execution_count": null,
   "id": "ba26e45d",
   "metadata": {},
   "outputs": [],
   "source": [
    "class Car:\n",
    "    def __init__(self):\n",
    "        self.engine=Engine()\n",
    "    def drive(self):\n",
    "        self.engine.start()\n",
    "        print(\"Car is driving\")"
   ]
  },
  {
   "cell_type": "code",
   "execution_count": 76,
   "id": "0ce8fd4a",
   "metadata": {},
   "outputs": [],
   "source": [
    "my_car = Car()"
   ]
  },
  {
   "cell_type": "code",
   "execution_count": 77,
   "id": "2e9c4e77",
   "metadata": {},
   "outputs": [
    {
     "name": "stdout",
     "output_type": "stream",
     "text": [
      "Engine started\n",
      "Car is driving\n"
     ]
    }
   ],
   "source": [
    "my_car.drive()"
   ]
  },
  {
   "cell_type": "code",
   "execution_count": null,
   "id": "4ebe1911",
   "metadata": {},
   "outputs": [],
   "source": [
    "class Car:\n",
    "    def __init__(self):\n",
    "        self.using=Usage()\n",
    "        self.model=Car()\n",
    "    def drive(self):\n",
    "        self.engine.start()\n",
    "        print(f'{self.name}가 {self.using}에 {self.model}을 운전한다')"
   ]
  },
  {
   "cell_type": "code",
   "execution_count": 78,
   "id": "f72e389d",
   "metadata": {},
   "outputs": [],
   "source": [
    "# 3. 상속: 부모가 가진 필드(변수), 메소드 상속\n",
    "# 차(부모) - 버스(자식)\n",
    "# 버스는 차다"
   ]
  },
  {
   "cell_type": "code",
   "execution_count": 79,
   "id": "eefd382f",
   "metadata": {},
   "outputs": [],
   "source": [
    "class Bus(Car):\n",
    "    pass"
   ]
  },
  {
   "cell_type": "code",
   "execution_count": 80,
   "id": "0b189342",
   "metadata": {},
   "outputs": [
    {
     "data": {
      "text/plain": [
       "__main__.Bus"
      ]
     },
     "execution_count": 80,
     "metadata": {},
     "output_type": "execute_result"
    }
   ],
   "source": [
    "Bus"
   ]
  },
  {
   "cell_type": "code",
   "execution_count": 81,
   "id": "6dacdd5b",
   "metadata": {},
   "outputs": [
    {
     "data": {
      "text/plain": [
       "type"
      ]
     },
     "execution_count": 81,
     "metadata": {},
     "output_type": "execute_result"
    }
   ],
   "source": [
    "type(Bus)"
   ]
  },
  {
   "cell_type": "code",
   "execution_count": 82,
   "id": "fe925564",
   "metadata": {},
   "outputs": [],
   "source": [
    "bus=Bus()"
   ]
  },
  {
   "cell_type": "code",
   "execution_count": 83,
   "id": "5c82f4ca",
   "metadata": {},
   "outputs": [
    {
     "data": {
      "text/plain": [
       "<__main__.Engine at 0x1958ca20a50>"
      ]
     },
     "execution_count": 83,
     "metadata": {},
     "output_type": "execute_result"
    }
   ],
   "source": [
    "bus.engine"
   ]
  },
  {
   "cell_type": "code",
   "execution_count": 84,
   "id": "571bb52d",
   "metadata": {},
   "outputs": [
    {
     "name": "stdout",
     "output_type": "stream",
     "text": [
      "Engine started\n"
     ]
    }
   ],
   "source": [
    "bus.engine.start()"
   ]
  },
  {
   "cell_type": "code",
   "execution_count": 85,
   "id": "dccfaaf8",
   "metadata": {},
   "outputs": [],
   "source": [
    "class Animal:\n",
    "    def speak(self):\n",
    "        raise NotImplementedError('Subclasses must implement this method')"
   ]
  },
  {
   "cell_type": "code",
   "execution_count": 98,
   "id": "830187d3",
   "metadata": {},
   "outputs": [],
   "source": [
    "class Dog(Animal):\n",
    "    pass"
   ]
  },
  {
   "cell_type": "code",
   "execution_count": 99,
   "id": "bac337ee",
   "metadata": {},
   "outputs": [
    {
     "ename": "NotImplementedError",
     "evalue": "Subclasses must implement this method",
     "output_type": "error",
     "traceback": [
      "\u001b[1;31m---------------------------------------------------------------------------\u001b[0m",
      "\u001b[1;31mNotImplementedError\u001b[0m                       Traceback (most recent call last)",
      "Cell \u001b[1;32mIn[99], line 2\u001b[0m\n\u001b[0;32m      1\u001b[0m chi \u001b[38;5;241m=\u001b[39m Dog()\n\u001b[1;32m----> 2\u001b[0m chi\u001b[38;5;241m.\u001b[39mspeak()\n",
      "Cell \u001b[1;32mIn[85], line 3\u001b[0m, in \u001b[0;36mAnimal.speak\u001b[1;34m(self)\u001b[0m\n\u001b[0;32m      2\u001b[0m \u001b[38;5;28;01mdef\u001b[39;00m\u001b[38;5;250m \u001b[39m\u001b[38;5;21mspeak\u001b[39m(\u001b[38;5;28mself\u001b[39m):\n\u001b[1;32m----> 3\u001b[0m     \u001b[38;5;28;01mraise\u001b[39;00m \u001b[38;5;167;01mNotImplementedError\u001b[39;00m(\u001b[38;5;124m'\u001b[39m\u001b[38;5;124mSubclasses must implement this method\u001b[39m\u001b[38;5;124m'\u001b[39m)\n",
      "\u001b[1;31mNotImplementedError\u001b[0m: Subclasses must implement this method"
     ]
    }
   ],
   "source": [
    "chi = Dog()\n",
    "chi.speak()"
   ]
  },
  {
   "cell_type": "code",
   "execution_count": 88,
   "id": "ea6fc10c",
   "metadata": {},
   "outputs": [],
   "source": [
    "class Dog(Animal):\n",
    "    def speak(self):\n",
    "        return '멍멍'"
   ]
  },
  {
   "cell_type": "code",
   "execution_count": 90,
   "id": "f24c7dcd",
   "metadata": {},
   "outputs": [
    {
     "data": {
      "text/plain": [
       "'멍멍'"
      ]
     },
     "execution_count": 90,
     "metadata": {},
     "output_type": "execute_result"
    }
   ],
   "source": [
    "chi2 = Dog()\n",
    "chi2.speak()"
   ]
  },
  {
   "cell_type": "code",
   "execution_count": 91,
   "id": "2911f0cd",
   "metadata": {},
   "outputs": [],
   "source": [
    "class Cat(Animal):\n",
    "    def speak(self):\n",
    "        return '미아우'"
   ]
  },
  {
   "cell_type": "code",
   "execution_count": 93,
   "id": "e7138e2e",
   "metadata": {},
   "outputs": [
    {
     "data": {
      "text/plain": [
       "'미아우'"
      ]
     },
     "execution_count": 93,
     "metadata": {},
     "output_type": "execute_result"
    }
   ],
   "source": [
    "b_cat = Cat()\n",
    "b_cat.speak()"
   ]
  },
  {
   "cell_type": "code",
   "execution_count": 2,
   "id": "71072f61",
   "metadata": {},
   "outputs": [
    {
     "name": "stdout",
     "output_type": "stream",
     "text": [
      "PKS\n",
      "신림선\n",
      "PKS가 신림선라인 지하철을 타고간다\n",
      "이전 역에서 출발했다\n",
      "2호선 지하철을 탈거다\n",
      "신림선 기차가 생성되었습니다\n",
      "이전 역에서 출발했다\n",
      "신림선 지하철을 탈거다\n"
     ]
    }
   ],
   "source": [
    "# 클래스 관계\n",
    "\n",
    "# 1. 사용 (Use)\n",
    "# 내(이름)가 지하철을 타고 가는 상황\n",
    "\n",
    "class Person:\n",
    "    def __init__(self, name):\n",
    "        self.name = name\n",
    "    \n",
    "    def take(self, subway):\n",
    "        print(f'{self.name}가 {subway.line}라인 지하철을 타고간다')\n",
    "\n",
    "class Subway:\n",
    "    def __init__(self, line):\n",
    "        self.line = line\n",
    "\n",
    "me = Person('PKS')\n",
    "print(me.name)\n",
    "\n",
    "my_line = Subway('신림선')\n",
    "print(my_line.line)\n",
    "\n",
    "me.take(my_line)\n",
    "\n",
    "# 2. 포함 (Composition)\n",
    "# 이전 지하철 역에서 출발했다\n",
    "\n",
    "class Operation:\n",
    "    def start(self):\n",
    "        print(\"이전 역에서 출발했다\")\n",
    "\n",
    "class Subway2:  # 이름 충돌 방지를 위해 Subway2로 변경\n",
    "    def __init__(self, line):\n",
    "        self.line = line\n",
    "        self.operation = Operation()\n",
    "    \n",
    "    def take(self):\n",
    "        self.operation.start()\n",
    "        print(f\"{self.line} 지하철을 탈거다\")\n",
    "\n",
    "my_subway = Subway2('2호선')\n",
    "\n",
    "my_subway.take()\n",
    "\n",
    "# 3. 상속 (Inheritance): 부모가 가진 필드(변수), 메소드 상속\n",
    "# 지하철(부모) - 기차(자식)\n",
    "# 기차는 지하철의 한 종류다\n",
    "\n",
    "class Train(Subway2):\n",
    "    def __init__(self, line):\n",
    "        super().__init__(line)  # 부모 클래스의 초기화 메소드 호출\n",
    "        print(f\"{line} 기차가 생성되었습니다\")\n",
    "\n",
    "train = Train('신림선')\n",
    "\n",
    "train.take()"
   ]
  },
  {
   "cell_type": "code",
   "execution_count": null,
   "id": "3f9ce697",
   "metadata": {},
   "outputs": [],
   "source": []
  }
 ],
 "metadata": {
  "kernelspec": {
   "display_name": "base",
   "language": "python",
   "name": "python3"
  },
  "language_info": {
   "codemirror_mode": {
    "name": "ipython",
    "version": 3
   },
   "file_extension": ".py",
   "mimetype": "text/x-python",
   "name": "python",
   "nbconvert_exporter": "python",
   "pygments_lexer": "ipython3",
   "version": "3.13.5"
  }
 },
 "nbformat": 4,
 "nbformat_minor": 5
}
