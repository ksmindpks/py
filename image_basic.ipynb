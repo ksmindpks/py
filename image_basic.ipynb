{
 "cells": [
  {
   "cell_type": "code",
   "execution_count": null,
   "id": "eea816f6",
   "metadata": {},
   "outputs": [],
   "source": [
    "import cv2 as cv\n",
    "import sys\n",
    "\n",
    "from matplotlib import rc\n",
    "\n",
    "img = cv.imread('C:/ex/cv/soccer.jpg')\n",
    "\n",
    "img.shape\n",
    "\n",
    "Brushsiz = 5  # 붓의 크기\n",
    "LColor, Rcolor = (255,0,0), (0,0,255) # 파란색과 빨강색\n",
    "\n",
    "def painting(event,x,y,flags,param):\n",
    "    if event == cv.EVENT_LBUTTONDOWN:\n",
    "        cv.circle(img,(x,y), Brushsiz, LColor, -1) # 마우스 왼쪽 버튼 클릭하면 파란색\n",
    "    elif event == cv.EVENT_RBUTTONDOWN:\n",
    "        cv.circle(img,(x,y), Brushsiz, Rcolor, -1) # 마우스 오른쪽 버튼 클릭하면 빨강색\n",
    "    elif event == cv.EVENT_MOUSEMOVE and flags==cv.EVENT_FLAG_LBUTTON:\n",
    "        cv.circle(img,(x,y), Brushsiz, LColor, -1) # 마우스 왼쪽 버튼 마우스 이동시 파란색\n",
    "    elif event == cv.EVENT_MOUSEMOVE and flags==cv.EVENT_FLAG_RBUTTON:\n",
    "        cv.circle(img,(x,y), Brushsiz, Rcolor, -1) # 마우스 오른쪽 버튼 마우스 이동시 빨강색\n",
    "    \n",
    "    cv.imshow('Painting',img)  # 수정된 영상을 다시 그림\n",
    "\n",
    "cv.namedWindow('Painging')\n",
    "cv.imshow('Painting',img)\n",
    "\n",
    "cv.setMouseCallback('Painting',painting)\n",
    "\n",
    "while True:\n",
    "    if cv.waitKey(1) == ord('q'):\n",
    "        cv.destroyAllWindows()\n",
    "        break\n"
   ]
  },
  {
   "cell_type": "code",
   "execution_count": null,
   "id": "e6019b69",
   "metadata": {},
   "outputs": [],
   "source": [
    "img = cv.imread('C:/ex/cv/soccer.jpg')"
   ]
  },
  {
   "cell_type": "code",
   "execution_count": null,
   "id": "aa4b64e2",
   "metadata": {},
   "outputs": [],
   "source": [
    "img.shape[0]//2"
   ]
  },
  {
   "cell_type": "code",
   "execution_count": null,
   "id": "19bd4ba9",
   "metadata": {},
   "outputs": [],
   "source": [
    "img.shape[0]//3"
   ]
  },
  {
   "cell_type": "code",
   "execution_count": null,
   "id": "adbfe10a",
   "metadata": {},
   "outputs": [],
   "source": [
    "img.shape[0]//4"
   ]
  },
  {
   "cell_type": "code",
   "execution_count": null,
   "id": "f7061f5e",
   "metadata": {},
   "outputs": [],
   "source": [
    "# cv.imshow('original_RGB', img)\n",
    "# cv.imshow('upper_left_half', img[0:img.shape[0]//2, 0:img.shape[1]//2])\n",
    "\n",
    "height, width = img.shape[:2]\n",
    "center_half = img[height//4:height*3//4, width//4:width*3//4]\n",
    "cv.imshow('center_half', center_half)\n",
    "cv.waitKey(0)\n",
    "cv.destroyAllWindows()  \n",
    "\n",
    "cv.imshow('center_half', center_half[:,:,2])\n",
    "cv.waitKey(0)\n",
    "cv.destroyAllWindows()  \n",
    "cv.imshow('center_half', center_half[:,:,1])\n",
    "cv.waitKey(0)\n",
    "cv.destroyAllWindows()  \n",
    "cv.imshow('center_half', center_half[:,:,0])\n",
    "cv.waitKey(0)\n",
    "cv.destroyAllWindows()  \n"
   ]
  },
  {
   "cell_type": "code",
   "execution_count": null,
   "id": "dff267ee",
   "metadata": {},
   "outputs": [],
   "source": [
    "import cv2 as cv\n",
    "import requests\n",
    "import numpy as np\n",
    "\n",
    "# URL에서 이미지 다운로드\n",
    "url = 'https://cdn.pixabay.com/photo/2023/11/17/16/29/circuit-board-8394607_640.jpg'\n",
    "response = requests.get(url)\n",
    "\n",
    "# 바이트 데이터를 numpy 배열로 변환\n",
    "img_array = np.frombuffer(response.content, np.uint8)\n",
    "\n",
    "# OpenCV로 디코딩\n",
    "img = cv.imdecode(img_array, cv.IMREAD_COLOR)\n",
    "\n",
    "cv.imshow('img',img)\n",
    "cv.waitKey(0)\n",
    "cv.destroyAllWindows()"
   ]
  },
  {
   "cell_type": "code",
   "execution_count": null,
   "id": "637b90f1",
   "metadata": {},
   "outputs": [],
   "source": [
    "import matplotlib.pyplot as plt\n",
    "\n",
    "r = cv.calcHist([img],[2],None,[256],[0,256])\n",
    "g = cv.calcHist([img],[1],None,[256],[0,256])\n",
    "b = cv.calcHist([img],[0],None,[256],[0,256])\n",
    "plt.plot(r,'r',g,'g',b,'b')\n",
    "plt.show()"
   ]
  },
  {
   "cell_type": "code",
   "execution_count": null,
   "id": "d86ca5dc",
   "metadata": {},
   "outputs": [],
   "source": [
    "img_gray =cv.imdecode(img_array, cv.IMREAD_GRAYSCALE)\n",
    "k = cv.calcHist([img_gray],[0],None,[256],[0,256])\n",
    "plt.plot(k,'k')\n",
    "plt.show()"
   ]
  }
 ],
 "metadata": {
  "kernelspec": {
   "display_name": "base",
   "language": "python",
   "name": "python3"
  },
  "language_info": {
   "codemirror_mode": {
    "name": "ipython",
    "version": 3
   },
   "file_extension": ".py",
   "mimetype": "text/x-python",
   "name": "python",
   "nbconvert_exporter": "python",
   "pygments_lexer": "ipython3",
   "version": "3.13.5"
  }
 },
 "nbformat": 4,
 "nbformat_minor": 5
}
