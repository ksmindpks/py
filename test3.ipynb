{
 "cells": [
  {
   "cell_type": "code",
   "execution_count": 32,
   "id": "dbd7efb9",
   "metadata": {},
   "outputs": [],
   "source": [
    "# 구구단 함수\n",
    "def multiple1():\n",
    "    print('구구단을 만들까?')\n",
    "    pass\n",
    "\n",
    "def multiple2(a=9):\n",
    "    print(f'{a}자리 구구단을 만들었다')\n",
    "    for j in range(1,a+1):\n",
    "        for i in range(2,a+1):\n",
    "            print(f'{i}x{j}= {i*j}\\t', end='')\n",
    "        print()\n",
    "\n",
    "def multiple3():\n",
    "    for j in range(1,10):\n",
    "        for i in range(2,10):\n",
    "            print(f'{i}x{j}= {i*j}\\t', end='')\n",
    "        print()\n",
    "    return '구구단을 만들었다'\n",
    "\n",
    "def multiple4(a=9):\n",
    "    for j in range(1,a+1):\n",
    "        for i in range(2,a+1):\n",
    "            print(f'{i}x{j}= {i*j}\\t', end='')\n",
    "        print()\n",
    "    return f'{a} 자리 구구단을 만들었다'"
   ]
  },
  {
   "cell_type": "code",
   "execution_count": 22,
   "id": "30dfac48",
   "metadata": {},
   "outputs": [
    {
     "name": "stdout",
     "output_type": "stream",
     "text": [
      "구구단을 만들까?\n"
     ]
    }
   ],
   "source": [
    "multiple1()"
   ]
  },
  {
   "cell_type": "code",
   "execution_count": 33,
   "id": "98e5816b",
   "metadata": {},
   "outputs": [
    {
     "name": "stdout",
     "output_type": "stream",
     "text": [
      "3자리 구구단을 만들었다\n",
      "2x1= 2\t3x1= 3\t\n",
      "2x2= 4\t3x2= 6\t\n",
      "2x3= 6\t3x3= 9\t\n"
     ]
    }
   ],
   "source": [
    "multiple2(3)"
   ]
  },
  {
   "cell_type": "code",
   "execution_count": 27,
   "id": "58664ae6",
   "metadata": {},
   "outputs": [
    {
     "name": "stdout",
     "output_type": "stream",
     "text": [
      "2x1= 2\t3x1= 3\t4x1= 4\t5x1= 5\t6x1= 6\t7x1= 7\t8x1= 8\t9x1= 9\t\n",
      "2x2= 4\t3x2= 6\t4x2= 8\t5x2= 10\t6x2= 12\t7x2= 14\t8x2= 16\t9x2= 18\t\n",
      "2x3= 6\t3x3= 9\t4x3= 12\t5x3= 15\t6x3= 18\t7x3= 21\t8x3= 24\t9x3= 27\t\n",
      "2x4= 8\t3x4= 12\t4x4= 16\t5x4= 20\t6x4= 24\t7x4= 28\t8x4= 32\t9x4= 36\t\n",
      "2x5= 10\t3x5= 15\t4x5= 20\t5x5= 25\t6x5= 30\t7x5= 35\t8x5= 40\t9x5= 45\t\n",
      "2x6= 12\t3x6= 18\t4x6= 24\t5x6= 30\t6x6= 36\t7x6= 42\t8x6= 48\t9x6= 54\t\n",
      "2x7= 14\t3x7= 21\t4x7= 28\t5x7= 35\t6x7= 42\t7x7= 49\t8x7= 56\t9x7= 63\t\n",
      "2x8= 16\t3x8= 24\t4x8= 32\t5x8= 40\t6x8= 48\t7x8= 56\t8x8= 64\t9x8= 72\t\n",
      "2x9= 18\t3x9= 27\t4x9= 36\t5x9= 45\t6x9= 54\t7x9= 63\t8x9= 72\t9x9= 81\t\n"
     ]
    },
    {
     "data": {
      "text/plain": [
       "'구구단을 만들었다'"
      ]
     },
     "execution_count": 27,
     "metadata": {},
     "output_type": "execute_result"
    }
   ],
   "source": [
    "multiple3()"
   ]
  },
  {
   "cell_type": "code",
   "execution_count": 31,
   "id": "5d663275",
   "metadata": {},
   "outputs": [
    {
     "name": "stdout",
     "output_type": "stream",
     "text": [
      "2x1= 2\t3x1= 3\t4x1= 4\t5x1= 5\t6x1= 6\t7x1= 7\t8x1= 8\t9x1= 9\t10x1= 10\t11x1= 11\t12x1= 12\t13x1= 13\t14x1= 14\t15x1= 15\t\n",
      "2x2= 4\t3x2= 6\t4x2= 8\t5x2= 10\t6x2= 12\t7x2= 14\t8x2= 16\t9x2= 18\t10x2= 20\t11x2= 22\t12x2= 24\t13x2= 26\t14x2= 28\t15x2= 30\t\n",
      "2x3= 6\t3x3= 9\t4x3= 12\t5x3= 15\t6x3= 18\t7x3= 21\t8x3= 24\t9x3= 27\t10x3= 30\t11x3= 33\t12x3= 36\t13x3= 39\t14x3= 42\t15x3= 45\t\n",
      "2x4= 8\t3x4= 12\t4x4= 16\t5x4= 20\t6x4= 24\t7x4= 28\t8x4= 32\t9x4= 36\t10x4= 40\t11x4= 44\t12x4= 48\t13x4= 52\t14x4= 56\t15x4= 60\t\n",
      "2x5= 10\t3x5= 15\t4x5= 20\t5x5= 25\t6x5= 30\t7x5= 35\t8x5= 40\t9x5= 45\t10x5= 50\t11x5= 55\t12x5= 60\t13x5= 65\t14x5= 70\t15x5= 75\t\n",
      "2x6= 12\t3x6= 18\t4x6= 24\t5x6= 30\t6x6= 36\t7x6= 42\t8x6= 48\t9x6= 54\t10x6= 60\t11x6= 66\t12x6= 72\t13x6= 78\t14x6= 84\t15x6= 90\t\n",
      "2x7= 14\t3x7= 21\t4x7= 28\t5x7= 35\t6x7= 42\t7x7= 49\t8x7= 56\t9x7= 63\t10x7= 70\t11x7= 77\t12x7= 84\t13x7= 91\t14x7= 98\t15x7= 105\t\n",
      "2x8= 16\t3x8= 24\t4x8= 32\t5x8= 40\t6x8= 48\t7x8= 56\t8x8= 64\t9x8= 72\t10x8= 80\t11x8= 88\t12x8= 96\t13x8= 104\t14x8= 112\t15x8= 120\t\n",
      "2x9= 18\t3x9= 27\t4x9= 36\t5x9= 45\t6x9= 54\t7x9= 63\t8x9= 72\t9x9= 81\t10x9= 90\t11x9= 99\t12x9= 108\t13x9= 117\t14x9= 126\t15x9= 135\t\n",
      "2x10= 20\t3x10= 30\t4x10= 40\t5x10= 50\t6x10= 60\t7x10= 70\t8x10= 80\t9x10= 90\t10x10= 100\t11x10= 110\t12x10= 120\t13x10= 130\t14x10= 140\t15x10= 150\t\n",
      "2x11= 22\t3x11= 33\t4x11= 44\t5x11= 55\t6x11= 66\t7x11= 77\t8x11= 88\t9x11= 99\t10x11= 110\t11x11= 121\t12x11= 132\t13x11= 143\t14x11= 154\t15x11= 165\t\n",
      "2x12= 24\t3x12= 36\t4x12= 48\t5x12= 60\t6x12= 72\t7x12= 84\t8x12= 96\t9x12= 108\t10x12= 120\t11x12= 132\t12x12= 144\t13x12= 156\t14x12= 168\t15x12= 180\t\n",
      "2x13= 26\t3x13= 39\t4x13= 52\t5x13= 65\t6x13= 78\t7x13= 91\t8x13= 104\t9x13= 117\t10x13= 130\t11x13= 143\t12x13= 156\t13x13= 169\t14x13= 182\t15x13= 195\t\n",
      "2x14= 28\t3x14= 42\t4x14= 56\t5x14= 70\t6x14= 84\t7x14= 98\t8x14= 112\t9x14= 126\t10x14= 140\t11x14= 154\t12x14= 168\t13x14= 182\t14x14= 196\t15x14= 210\t\n",
      "2x15= 30\t3x15= 45\t4x15= 60\t5x15= 75\t6x15= 90\t7x15= 105\t8x15= 120\t9x15= 135\t10x15= 150\t11x15= 165\t12x15= 180\t13x15= 195\t14x15= 210\t15x15= 225\t\n"
     ]
    },
    {
     "data": {
      "text/plain": [
       "'15 자리 구구단을 만들었다'"
      ]
     },
     "execution_count": 31,
     "metadata": {},
     "output_type": "execute_result"
    }
   ],
   "source": [
    "multiple4(15)"
   ]
  },
  {
   "cell_type": "code",
   "execution_count": 34,
   "id": "14e50427",
   "metadata": {},
   "outputs": [],
   "source": [
    "def return_funct(x):\n",
    "    return x\n",
    "    return 'hi'"
   ]
  },
  {
   "cell_type": "code",
   "execution_count": 35,
   "id": "90444a09",
   "metadata": {},
   "outputs": [
    {
     "data": {
      "text/plain": [
       "5"
      ]
     },
     "execution_count": 35,
     "metadata": {},
     "output_type": "execute_result"
    }
   ],
   "source": [
    "return_funct(5)"
   ]
  },
  {
   "cell_type": "code",
   "execution_count": 1,
   "id": "bf341711",
   "metadata": {},
   "outputs": [],
   "source": [
    "def gen_func(x):\n",
    "    print('입력값')\n",
    "    yield x\n",
    "\n",
    "    print('입력값+1')\n",
    "    x += 1\n",
    "    yield x\n",
    "\n",
    "    print('입력값+2')\n",
    "    x += 1\n",
    "    yield x\n"
   ]
  },
  {
   "cell_type": "code",
   "execution_count": 2,
   "id": "272ed896",
   "metadata": {},
   "outputs": [
    {
     "data": {
      "text/plain": [
       "<generator object gen_func at 0x0000020CFD51E140>"
      ]
     },
     "execution_count": 2,
     "metadata": {},
     "output_type": "execute_result"
    }
   ],
   "source": [
    "gen_func(5)"
   ]
  },
  {
   "cell_type": "code",
   "execution_count": 5,
   "id": "0dc80120",
   "metadata": {},
   "outputs": [
    {
     "data": {
      "text/plain": [
       "[1.0, 2.0, 3.0, 4.0]"
      ]
     },
     "execution_count": 5,
     "metadata": {},
     "output_type": "execute_result"
    }
   ],
   "source": [
    "lc = [ half/2 for half in [2,4,6,8]]\n",
    "lc"
   ]
  },
  {
   "cell_type": "code",
   "execution_count": 4,
   "id": "7dedf4a0",
   "metadata": {},
   "outputs": [
    {
     "name": "stdout",
     "output_type": "stream",
     "text": [
      "25\n"
     ]
    }
   ],
   "source": [
    "lm = lambda  x : x*x\n",
    "sqr = lm(5)\n",
    "print(sqr)"
   ]
  },
  {
   "cell_type": "code",
   "execution_count": 2,
   "id": "1424494a",
   "metadata": {},
   "outputs": [
    {
     "name": "stdout",
     "output_type": "stream",
     "text": [
      "hi\n",
      "good morning\n",
      "\n",
      "안녕?\n"
     ]
    }
   ],
   "source": [
    "with open('test4.txt', encoding='utf-8') as f:\n",
    "    print(f.read())"
   ]
  },
  {
   "cell_type": "code",
   "execution_count": 3,
   "id": "4801da44",
   "metadata": {},
   "outputs": [
    {
     "name": "stdout",
     "output_type": "stream",
     "text": [
      "error: 0으로 나누지 마세요\n"
     ]
    }
   ],
   "source": [
    "try:\n",
    "    print(4/0)\n",
    "except ZeroDivisionError:\n",
    "    print('error: 0으로 나누지 마세요')"
   ]
  },
  {
   "cell_type": "code",
   "execution_count": null,
   "id": "0178246e",
   "metadata": {},
   "outputs": [],
   "source": []
  }
 ],
 "metadata": {
  "kernelspec": {
   "display_name": "base",
   "language": "python",
   "name": "python3"
  },
  "language_info": {
   "codemirror_mode": {
    "name": "ipython",
    "version": 3
   },
   "file_extension": ".py",
   "mimetype": "text/x-python",
   "name": "python",
   "nbconvert_exporter": "python",
   "pygments_lexer": "ipython3",
   "version": "3.13.5"
  }
 },
 "nbformat": 4,
 "nbformat_minor": 5
}
