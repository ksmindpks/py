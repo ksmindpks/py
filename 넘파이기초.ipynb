{
 "cells": [
  {
   "cell_type": "code",
   "execution_count": 20,
   "id": "b33b8b4c",
   "metadata": {},
   "outputs": [
    {
     "data": {
      "text/plain": [
       "((455, 498, 3), (494, 704, 3), (120, 98, 3))"
      ]
     },
     "execution_count": 20,
     "metadata": {},
     "output_type": "execute_result"
    }
   ],
   "source": [
    "import os\n",
    "import cv2 as cv\n",
    "\n",
    "base_path = r'C:\\ex\\cv'\n",
    "img_a = cv.imread(os.path.join(base_path, 'apple.png'))\n",
    "img_b = cv.imread(os.path.join(base_path, 'banana.jpg'))\n",
    "img_l = cv.imread(os.path.join(base_path, 'opencv_logo.png'))\n",
    "img_a.shape, img_b.shape, img_l.shape"
   ]
  },
  {
   "cell_type": "code",
   "execution_count": 21,
   "id": "39eae8db",
   "metadata": {},
   "outputs": [],
   "source": [
    "cv.imshow('img_a',img_a)\n",
    "cv.waitKey(0)\n",
    "cv.destroyAllWindows()"
   ]
  },
  {
   "cell_type": "code",
   "execution_count": 22,
   "id": "23722348",
   "metadata": {},
   "outputs": [],
   "source": [
    "cv.imshow('img_b',img_b)\n",
    "cv.waitKey(3000)\n",
    "cv.destroyAllWindows()"
   ]
  },
  {
   "cell_type": "code",
   "execution_count": 23,
   "id": "099d3d7f",
   "metadata": {},
   "outputs": [],
   "source": [
    "cv.imshow('img_l',img_l)\n",
    "cv.waitKey(5000)\n",
    "cv.destroyAllWindows()"
   ]
  },
  {
   "cell_type": "code",
   "execution_count": 45,
   "id": "8b8e3841",
   "metadata": {},
   "outputs": [],
   "source": [
    "base_path = r'C:\\ex\\cv'\n",
    "img_s = cv.imread(os.path.join(base_path, 'soccer.jpg'))\n",
    "# BGR을 그레이스케일로 변환\n",
    "img_s_gray = cv.cvtColor(img_s, cv.COLOR_BGR2GRAY)\n",
    "img_s_gray.shape\n",
    "cv.imshow('img_s_gray',img_s_gray)\n",
    "cv.waitKey(5000)\n",
    "cv.destroyAllWindows()"
   ]
  },
  {
   "cell_type": "code",
   "execution_count": 46,
   "id": "6cad8550",
   "metadata": {},
   "outputs": [
    {
     "data": {
      "text/plain": [
       "(array([[162]], dtype=uint8),\n",
       " array([[104]], dtype=uint8),\n",
       " array([[98]], dtype=uint8))"
      ]
     },
     "execution_count": 46,
     "metadata": {},
     "output_type": "execute_result"
    }
   ],
   "source": [
    "img_s[:,:,0][0:1,0:1], img_s[:,:,1][0:1,0:1], img_s[:,:,2][0:1,0:1]"
   ]
  },
  {
   "cell_type": "code",
   "execution_count": 49,
   "id": "ba9786c4",
   "metadata": {},
   "outputs": [],
   "source": [
    "img_s[:,:,1] # green channel\n",
    "\n",
    "cv.imshow('img_s_gray',img_s[:,:,2])\n",
    "cv.waitKey(5000)\n",
    "cv.destroyAllWindows()"
   ]
  },
  {
   "cell_type": "code",
   "execution_count": 1,
   "id": "85a67d60",
   "metadata": {},
   "outputs": [],
   "source": [
    "import sys\n",
    "import cv2 as cv\n",
    "\n",
    "# VideoCapture 객체 생성\n",
    "cap = cv.VideoCapture(0)  # 0 = 기본 웹캠"
   ]
  },
  {
   "cell_type": "code",
   "execution_count": 2,
   "id": "81862754",
   "metadata": {},
   "outputs": [
    {
     "data": {
      "text/plain": [
       "True"
      ]
     },
     "execution_count": 2,
     "metadata": {},
     "output_type": "execute_result"
    }
   ],
   "source": [
    "cap.isOpened()"
   ]
  },
  {
   "cell_type": "code",
   "execution_count": 3,
   "id": "e6e2f5ee",
   "metadata": {},
   "outputs": [],
   "source": [
    "if not cap.isOpened():\n",
    "    sys.exit(\"카메라 연결 실패\")"
   ]
  },
  {
   "cell_type": "code",
   "execution_count": 4,
   "id": "a8d86532",
   "metadata": {},
   "outputs": [],
   "source": [
    "while True:\n",
    "    ret, frame = cap.read()\n",
    "    # print(ret)\n",
    "    # print('----------------')\n",
    "    # print(frame)\n",
    "    cv.imshow('Video', frame)\n",
    "    key = cv.waitKey(1)\n",
    "    if key==ord('q'):\n",
    "        break\n",
    "cap.release()\n",
    "cv.destroyAllWindows()\n",
    "    "
   ]
  },
  {
   "cell_type": "code",
   "execution_count": null,
   "id": "bc79ad1a",
   "metadata": {},
   "outputs": [
    {
     "ename": "SyntaxError",
     "evalue": "invalid syntax (1036807985.py, line 1)",
     "output_type": "error",
     "traceback": [
      "\u001b[1;36m  Cell \u001b[1;32mIn[5], line 1\u001b[1;36m\u001b[0m\n\u001b[1;33m    https://peach.blender.org/wp-content/uploads/dl_vim.jpg\u001b[0m\n\u001b[1;37m          ^\u001b[0m\n\u001b[1;31mSyntaxError\u001b[0m\u001b[1;31m:\u001b[0m invalid syntax\n"
     ]
    }
   ],
   "source": [
    "video_file = 'C:/ex/cv/big_buck.avi'"
   ]
  },
  {
   "cell_type": "code",
   "execution_count": null,
   "id": "ad9a6042",
   "metadata": {},
   "outputs": [],
   "source": [
    "cap = cv.VideoCapture(video_file)\n",
    "cap.isOpened()\n",
    "if cap.isOpened():\n",
    "    while True:\n",
    "        ret, frame = cap.read()\n",
    "        if ret:\n",
    "            cv.imshow(video_file, frame)\n",
    "            cv.waitKey(25)\n",
    "        else:\n",
    "            break\n",
    "else:\n",
    "    print(\"can't open video file\")\n",
    "cap.release()\n",
    "cv.destroyAllWindows()\n"
   ]
  },
  {
   "cell_type": "code",
   "execution_count": null,
   "id": "20601694",
   "metadata": {},
   "outputs": [],
   "source": [
    "import cv2 as cv\n",
    "\n",
    "cap = cv.VideoCapture(0)  # 0 = 기본 웹캠\n",
    "if cap.isOpened():\n",
    "    while True:\n",
    "        ret, frame = cap.read()\n",
    "        if ret:\n",
    "            cv.imshow('camera', frame)\n",
    "            if cv.waitKey(1) != -1: \n",
    "                # 아무키나 누르면\n",
    "                cv.imwrite('photo.jpg', frame)\n",
    "                break\n",
    "        else:\n",
    "            print('no frame')\n",
    "            break\n",
    "    else:\n",
    "        print('no camera')\n",
    "cap.release()\n",
    "cv.destroyAllWindows()"
   ]
  },
  {
   "cell_type": "code",
   "execution_count": null,
   "id": "57d4a796",
   "metadata": {},
   "outputs": [],
   "source": [
    "# writer.fourcc(c1,c2,c3,c4) : fourcc 코드 생성\n",
    "# c1,c2,c3,c4 : 인코딩 형식 4글자 'MJPG', 'DIVX', 'XVID', 'MP4V'"
   ]
  },
  {
   "cell_type": "code",
   "execution_count": 3,
   "id": "5d226f93",
   "metadata": {},
   "outputs": [
    {
     "name": "stdout",
     "output_type": "stream",
     "text": [
      "no frame\n"
     ]
    }
   ],
   "source": [
    "import cv2 as cv\n",
    "\n",
    "cap = cv.VideoCapture(0)\n",
    "\n",
    "if cap.isOpened():\n",
    "    file_path = 'c:/py/test_record3.avi'\n",
    "    fps=25.4\n",
    "    fourcc = cv.VideoWriter_fourcc(*'DIVX')\n",
    "    width = cap.get(cv.CAP_PROP_FRAME_WIDTH)\n",
    "    height = cap.get(cv.CAP_PROP_FRAME_HEIGHT)\n",
    "    size = (int(width), int(height))\n",
    "    out = cv.VideoWriter(file_path, fourcc, fps, size)\n",
    "    while True:\n",
    "        ret, frame = cap.read()\n",
    "        if ret:\n",
    "            cv.imshow('camera-recording', frame)\n",
    "            out.write(frame)\n",
    "            if cv.waitKey(int(1000/fps)) != -1:\n",
    "                break\n",
    "            else:\n",
    "                print('no frame')\n",
    "                break\n",
    "    out.release()\n",
    "else:\n",
    "    print(\"can't open camera\")\n",
    "cap.release()\n",
    "cv.destroyAllWindows()\n",
    "          \n"
   ]
  },
  {
   "cell_type": "code",
   "execution_count": null,
   "id": "c954086a",
   "metadata": {},
   "outputs": [],
   "source": []
  }
 ],
 "metadata": {
  "kernelspec": {
   "display_name": "base",
   "language": "python",
   "name": "python3"
  },
  "language_info": {
   "codemirror_mode": {
    "name": "ipython",
    "version": 3
   },
   "file_extension": ".py",
   "mimetype": "text/x-python",
   "name": "python",
   "nbconvert_exporter": "python",
   "pygments_lexer": "ipython3",
   "version": "3.13.5"
  }
 },
 "nbformat": 4,
 "nbformat_minor": 5
}
