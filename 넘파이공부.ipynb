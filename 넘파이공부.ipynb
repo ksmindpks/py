{
 "cells": [
  {
   "cell_type": "code",
   "execution_count": null,
   "id": "d1219f98",
   "metadata": {},
   "outputs": [
    {
     "name": "stdout",
     "output_type": "stream",
     "text": [
      "[1 2 3]\n",
      "[[1 2]\n",
      " [3 4]]\n",
      "[[[1 2]\n",
      "  [3 4]]\n",
      "\n",
      " [[4 5]\n",
      "  [6 7]]]\n",
      "[1 2 3 4 5 6 7 8]\n",
      "[[1 2 3 4]\n",
      " [5 6 7 8]]\n",
      "[[[1 2]\n",
      "  [3 4]]\n",
      "\n",
      " [[5 6]\n",
      "  [7 8]]]\n"
     ]
    }
   ],
   "source": [
    "import numpy as np\n",
    "\n",
    "d1ary = np.array([1,2,3])\n",
    "d2ary = np.array([[1,2],[3,4]])\n",
    "d3ary = np.array([[[1,2],[3,4]],\n",
    "                 [[4,5],[6,7]]])\n",
    "print(d1ary)\n",
    "print(d2ary)\n",
    "print(d3ary)\n",
    "\n",
    "d1 = np.array(range(1,9))\n",
    "d2 = np.array(range(1,9)).reshape(2,4)\n",
    "d3 = np.array(range(1,9)).reshape(2,2,2)\n",
    "print(d1)\n",
    "print(d2)\n",
    "print(d3)"
   ]
  },
  {
   "cell_type": "code",
   "execution_count": 15,
   "id": "f30641db",
   "metadata": {},
   "outputs": [
    {
     "data": {
      "text/plain": [
       "((2, 2, 2), 3, 8)"
      ]
     },
     "execution_count": 15,
     "metadata": {},
     "output_type": "execute_result"
    }
   ],
   "source": [
    "d3.shape, d3.ndim, d3.size"
   ]
  },
  {
   "cell_type": "code",
   "execution_count": 39,
   "id": "fbd3ef9f",
   "metadata": {},
   "outputs": [
    {
     "data": {
      "text/html": [
       "<div>\n",
       "<style scoped>\n",
       "    .dataframe tbody tr th:only-of-type {\n",
       "        vertical-align: middle;\n",
       "    }\n",
       "\n",
       "    .dataframe tbody tr th {\n",
       "        vertical-align: top;\n",
       "    }\n",
       "\n",
       "    .dataframe thead th {\n",
       "        text-align: right;\n",
       "    }\n",
       "</style>\n",
       "<table border=\"1\" class=\"dataframe\">\n",
       "  <thead>\n",
       "    <tr style=\"text-align: right;\">\n",
       "      <th></th>\n",
       "      <th>이름</th>\n",
       "      <th>키</th>\n",
       "      <th>몸무게</th>\n",
       "      <th>성별</th>\n",
       "      <th>나이</th>\n",
       "    </tr>\n",
       "  </thead>\n",
       "  <tbody>\n",
       "    <tr>\n",
       "      <th>0</th>\n",
       "      <td>홍일동</td>\n",
       "      <td>166</td>\n",
       "      <td>90</td>\n",
       "      <td>남</td>\n",
       "      <td>19</td>\n",
       "    </tr>\n",
       "    <tr>\n",
       "      <th>1</th>\n",
       "      <td>홍이동</td>\n",
       "      <td>168</td>\n",
       "      <td>60</td>\n",
       "      <td>여</td>\n",
       "      <td>20</td>\n",
       "    </tr>\n",
       "    <tr>\n",
       "      <th>2</th>\n",
       "      <td>홍삼동</td>\n",
       "      <td>170</td>\n",
       "      <td>50</td>\n",
       "      <td>남</td>\n",
       "      <td>21</td>\n",
       "    </tr>\n",
       "    <tr>\n",
       "      <th>3</th>\n",
       "      <td>홍사동</td>\n",
       "      <td>172</td>\n",
       "      <td>70</td>\n",
       "      <td>여</td>\n",
       "      <td>22</td>\n",
       "    </tr>\n",
       "    <tr>\n",
       "      <th>4</th>\n",
       "      <td>홍오동</td>\n",
       "      <td>174</td>\n",
       "      <td>45.3</td>\n",
       "      <td>남</td>\n",
       "      <td>23</td>\n",
       "    </tr>\n",
       "  </tbody>\n",
       "</table>\n",
       "</div>"
      ],
      "text/plain": [
       "    이름    키   몸무게 성별  나이\n",
       "0  홍일동  166    90  남  19\n",
       "1  홍이동  168    60  여  20\n",
       "2  홍삼동  170    50  남  21\n",
       "3  홍사동  172    70  여  22\n",
       "4  홍오동  174  45.3  남  23"
      ]
     },
     "execution_count": 39,
     "metadata": {},
     "output_type": "execute_result"
    }
   ],
   "source": [
    "import pandas as pd\n",
    "\n",
    "student = [['이름',\t'키',\t'몸무게',\t'성별',\t'나이'],\n",
    "['홍일동',\t'166',\t'90',\t'남',\t'19'],\n",
    "['홍이동',\t'168',\t'60',\t'여',\t'20'],\n",
    "['홍삼동',\t'170',\t'50',\t'남',\t'21'],\n",
    "['홍사동',\t'172',\t'70',\t'여',\t'22'],\n",
    "['홍오동',\t'174',\t'45.3',\t'남',\t'23']]\n",
    "\n",
    "df = pd.DataFrame(student[1:], columns=student[0])\n",
    "df\n"
   ]
  },
  {
   "cell_type": "code",
   "execution_count": 40,
   "id": "0bf8fc92",
   "metadata": {},
   "outputs": [
    {
     "data": {
      "text/html": [
       "<div>\n",
       "<style scoped>\n",
       "    .dataframe tbody tr th:only-of-type {\n",
       "        vertical-align: middle;\n",
       "    }\n",
       "\n",
       "    .dataframe tbody tr th {\n",
       "        vertical-align: top;\n",
       "    }\n",
       "\n",
       "    .dataframe thead th {\n",
       "        text-align: right;\n",
       "    }\n",
       "</style>\n",
       "<table border=\"1\" class=\"dataframe\">\n",
       "  <thead>\n",
       "    <tr style=\"text-align: right;\">\n",
       "      <th></th>\n",
       "      <th>이름</th>\n",
       "      <th>키</th>\n",
       "      <th>몸무게</th>\n",
       "      <th>성별</th>\n",
       "      <th>나이</th>\n",
       "    </tr>\n",
       "  </thead>\n",
       "  <tbody>\n",
       "    <tr>\n",
       "      <th>0</th>\n",
       "      <td>홍일동</td>\n",
       "      <td>166</td>\n",
       "      <td>90.0</td>\n",
       "      <td>남</td>\n",
       "      <td>19</td>\n",
       "    </tr>\n",
       "    <tr>\n",
       "      <th>1</th>\n",
       "      <td>홍이동</td>\n",
       "      <td>168</td>\n",
       "      <td>60.0</td>\n",
       "      <td>여</td>\n",
       "      <td>20</td>\n",
       "    </tr>\n",
       "    <tr>\n",
       "      <th>2</th>\n",
       "      <td>홍삼동</td>\n",
       "      <td>170</td>\n",
       "      <td>50.0</td>\n",
       "      <td>남</td>\n",
       "      <td>21</td>\n",
       "    </tr>\n",
       "    <tr>\n",
       "      <th>3</th>\n",
       "      <td>홍사동</td>\n",
       "      <td>172</td>\n",
       "      <td>70.0</td>\n",
       "      <td>여</td>\n",
       "      <td>22</td>\n",
       "    </tr>\n",
       "    <tr>\n",
       "      <th>4</th>\n",
       "      <td>홍오동</td>\n",
       "      <td>174</td>\n",
       "      <td>45.3</td>\n",
       "      <td>남</td>\n",
       "      <td>23</td>\n",
       "    </tr>\n",
       "  </tbody>\n",
       "</table>\n",
       "</div>"
      ],
      "text/plain": [
       "    이름    키   몸무게 성별  나이\n",
       "0  홍일동  166  90.0  남  19\n",
       "1  홍이동  168  60.0  여  20\n",
       "2  홍삼동  170  50.0  남  21\n",
       "3  홍사동  172  70.0  여  22\n",
       "4  홍오동  174  45.3  남  23"
      ]
     },
     "execution_count": 40,
     "metadata": {},
     "output_type": "execute_result"
    }
   ],
   "source": [
    "import numpy as np\n",
    "import matplotlib.pyplot as plt\n",
    "\n",
    "df = pd.read_csv('C:\\AI_X_심화MBC\\student.csv')\n",
    "\n",
    "df['키'] = pd.to_numeric(df['키'])\n",
    "df['몸무게'] = pd.to_numeric(df['몸무게'])\n",
    "df['나이'] = pd.to_numeric(df['나이'])\n",
    "df\n"
   ]
  },
  {
   "cell_type": "code",
   "execution_count": 41,
   "id": "2ec6ff29",
   "metadata": {},
   "outputs": [
    {
     "data": {
      "text/html": [
       "<div>\n",
       "<style scoped>\n",
       "    .dataframe tbody tr th:only-of-type {\n",
       "        vertical-align: middle;\n",
       "    }\n",
       "\n",
       "    .dataframe tbody tr th {\n",
       "        vertical-align: top;\n",
       "    }\n",
       "\n",
       "    .dataframe thead th {\n",
       "        text-align: right;\n",
       "    }\n",
       "</style>\n",
       "<table border=\"1\" class=\"dataframe\">\n",
       "  <thead>\n",
       "    <tr style=\"text-align: right;\">\n",
       "      <th></th>\n",
       "      <th>키</th>\n",
       "      <th>몸무게</th>\n",
       "      <th>나이</th>\n",
       "    </tr>\n",
       "  </thead>\n",
       "  <tbody>\n",
       "    <tr>\n",
       "      <th>count</th>\n",
       "      <td>5.000000</td>\n",
       "      <td>5.000000</td>\n",
       "      <td>5.000000</td>\n",
       "    </tr>\n",
       "    <tr>\n",
       "      <th>mean</th>\n",
       "      <td>170.000000</td>\n",
       "      <td>63.060000</td>\n",
       "      <td>21.000000</td>\n",
       "    </tr>\n",
       "    <tr>\n",
       "      <th>std</th>\n",
       "      <td>3.162278</td>\n",
       "      <td>17.813422</td>\n",
       "      <td>1.581139</td>\n",
       "    </tr>\n",
       "    <tr>\n",
       "      <th>min</th>\n",
       "      <td>166.000000</td>\n",
       "      <td>45.300000</td>\n",
       "      <td>19.000000</td>\n",
       "    </tr>\n",
       "    <tr>\n",
       "      <th>25%</th>\n",
       "      <td>168.000000</td>\n",
       "      <td>50.000000</td>\n",
       "      <td>20.000000</td>\n",
       "    </tr>\n",
       "    <tr>\n",
       "      <th>50%</th>\n",
       "      <td>170.000000</td>\n",
       "      <td>60.000000</td>\n",
       "      <td>21.000000</td>\n",
       "    </tr>\n",
       "    <tr>\n",
       "      <th>75%</th>\n",
       "      <td>172.000000</td>\n",
       "      <td>70.000000</td>\n",
       "      <td>22.000000</td>\n",
       "    </tr>\n",
       "    <tr>\n",
       "      <th>max</th>\n",
       "      <td>174.000000</td>\n",
       "      <td>90.000000</td>\n",
       "      <td>23.000000</td>\n",
       "    </tr>\n",
       "  </tbody>\n",
       "</table>\n",
       "</div>"
      ],
      "text/plain": [
       "                키        몸무게         나이\n",
       "count    5.000000   5.000000   5.000000\n",
       "mean   170.000000  63.060000  21.000000\n",
       "std      3.162278  17.813422   1.581139\n",
       "min    166.000000  45.300000  19.000000\n",
       "25%    168.000000  50.000000  20.000000\n",
       "50%    170.000000  60.000000  21.000000\n",
       "75%    172.000000  70.000000  22.000000\n",
       "max    174.000000  90.000000  23.000000"
      ]
     },
     "execution_count": 41,
     "metadata": {},
     "output_type": "execute_result"
    }
   ],
   "source": [
    "df.describe()"
   ]
  },
  {
   "cell_type": "code",
   "execution_count": 44,
   "id": "2e57440a",
   "metadata": {},
   "outputs": [
    {
     "data": {
      "text/plain": [
       "array([[ 1.        , -0.70476309],\n",
       "       [-0.70476309,  1.        ]])"
      ]
     },
     "execution_count": 44,
     "metadata": {},
     "output_type": "execute_result"
    }
   ],
   "source": [
    "from numpy import corrcoef\n",
    "\n",
    "\n",
    "cr = corrcoef(df['키'], df['몸무게'])\n",
    "cr"
   ]
  },
  {
   "cell_type": "code",
   "execution_count": 45,
   "id": "3d3babe5",
   "metadata": {},
   "outputs": [
    {
     "data": {
      "text/plain": [
       "pandas.core.frame.DataFrame"
      ]
     },
     "execution_count": 45,
     "metadata": {},
     "output_type": "execute_result"
    }
   ],
   "source": [
    "type(df)"
   ]
  },
  {
   "cell_type": "code",
   "execution_count": 46,
   "id": "cfa26493",
   "metadata": {},
   "outputs": [
    {
     "data": {
      "text/plain": [
       "Index(['이름', '키', '몸무게', '성별', '나이'], dtype='object')"
      ]
     },
     "execution_count": 46,
     "metadata": {},
     "output_type": "execute_result"
    }
   ],
   "source": [
    "df.columns"
   ]
  },
  {
   "cell_type": "code",
   "execution_count": 47,
   "id": "dc458243",
   "metadata": {},
   "outputs": [
    {
     "data": {
      "text/plain": [
       "0    166\n",
       "1    168\n",
       "2    170\n",
       "3    172\n",
       "4    174\n",
       "Name: 키, dtype: int64"
      ]
     },
     "execution_count": 47,
     "metadata": {},
     "output_type": "execute_result"
    }
   ],
   "source": [
    "df.키"
   ]
  },
  {
   "cell_type": "code",
   "execution_count": 49,
   "id": "59f73b74",
   "metadata": {},
   "outputs": [
    {
     "data": {
      "text/plain": [
       "(0    90.0\n",
       " 1    60.0\n",
       " 2    50.0\n",
       " 3    70.0\n",
       " 4    45.3\n",
       " Name: 몸무게, dtype: float64,\n",
       " pandas.core.series.Series)"
      ]
     },
     "execution_count": 49,
     "metadata": {},
     "output_type": "execute_result"
    }
   ],
   "source": [
    "df['몸무게'], type(df['몸무게'])"
   ]
  },
  {
   "cell_type": "code",
   "execution_count": 50,
   "id": "602ec525",
   "metadata": {},
   "outputs": [
    {
     "data": {
      "text/plain": [
       "count      5.000000\n",
       "mean     170.000000\n",
       "std        3.162278\n",
       "min      166.000000\n",
       "25%      168.000000\n",
       "50%      170.000000\n",
       "75%      172.000000\n",
       "max      174.000000\n",
       "Name: 키, dtype: float64"
      ]
     },
     "execution_count": 50,
     "metadata": {},
     "output_type": "execute_result"
    }
   ],
   "source": [
    "height = df['키']\n",
    "height.describe()"
   ]
  },
  {
   "cell_type": "code",
   "execution_count": 56,
   "id": "9a62d537",
   "metadata": {},
   "outputs": [
    {
     "data": {
      "text/plain": [
       "np.float64(-0.7047630925231074)"
      ]
     },
     "execution_count": 56,
     "metadata": {},
     "output_type": "execute_result"
    }
   ],
   "source": [
    "from statistics import covariance\n",
    "import numpy as np\n",
    "\n",
    "\n",
    "cr = covariance(df['키'], df['몸무게'])/np.sqrt(df['키'].var() * df['몸무게'].var())\n",
    "cr"
   ]
  },
  {
   "cell_type": "code",
   "execution_count": 58,
   "id": "5fd8f67c",
   "metadata": {},
   "outputs": [
    {
     "data": {
      "text/plain": [
       "(317.31800000000004, 17.813421905967424)"
      ]
     },
     "execution_count": 58,
     "metadata": {},
     "output_type": "execute_result"
    }
   ],
   "source": [
    "weight = df['몸무게']\n",
    "weight.var(), weight.std()"
   ]
  },
  {
   "cell_type": "code",
   "execution_count": null,
   "id": "1b9af678",
   "metadata": {},
   "outputs": [],
   "source": []
  },
  {
   "cell_type": "code",
   "execution_count": null,
   "id": "063ab671",
   "metadata": {},
   "outputs": [],
   "source": []
  },
  {
   "cell_type": "code",
   "execution_count": null,
   "id": "373849fb",
   "metadata": {},
   "outputs": [],
   "source": []
  },
  {
   "cell_type": "code",
   "execution_count": null,
   "id": "e1f4b528",
   "metadata": {},
   "outputs": [],
   "source": []
  },
  {
   "cell_type": "code",
   "execution_count": null,
   "id": "b8d215df",
   "metadata": {},
   "outputs": [],
   "source": []
  },
  {
   "cell_type": "code",
   "execution_count": null,
   "id": "346c6452",
   "metadata": {},
   "outputs": [],
   "source": []
  },
  {
   "cell_type": "code",
   "execution_count": null,
   "id": "f9e91330",
   "metadata": {},
   "outputs": [],
   "source": []
  }
 ],
 "metadata": {
  "kernelspec": {
   "display_name": "base",
   "language": "python",
   "name": "python3"
  },
  "language_info": {
   "codemirror_mode": {
    "name": "ipython",
    "version": 3
   },
   "file_extension": ".py",
   "mimetype": "text/x-python",
   "name": "python",
   "nbconvert_exporter": "python",
   "pygments_lexer": "ipython3",
   "version": "3.13.5"
  }
 },
 "nbformat": 4,
 "nbformat_minor": 5
}
